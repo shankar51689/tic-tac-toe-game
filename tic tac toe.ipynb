{
 "cells": [
  {
   "cell_type": "code",
   "execution_count": 6,
   "metadata": {},
   "outputs": [
    {
     "name": "stdout",
     "output_type": "stream",
     "text": [
      "=========================\n"
     ]
    },
    {
     "name": "stdin",
     "output_type": "stream",
     "text": [
      "Do you want's to play again(y/n):- y\n"
     ]
    },
    {
     "name": "stdout",
     "output_type": "stream",
     "text": [
      "=========================\n",
      "=========================\n",
      "Welcome in the Tic-Tac-Toe Game   ----> Made by :-  Monu Sharma\n",
      "=================================================================\n",
      "   |   |   \n",
      "   |   |  \n",
      "   |   |   \n",
      "------------\n",
      "   |   |   \n",
      "   |   |  \n",
      "   |   |   \n",
      "------------\n",
      "   |   |   \n",
      "   |   |  \n",
      "   |   |   \n"
     ]
    },
    {
     "name": "stdin",
     "output_type": "stream",
     "text": [
      "please select a position to enter the X between 1 to 9:- 5\n"
     ]
    },
    {
     "name": "stdout",
     "output_type": "stream",
     "text": [
      "   |   |   \n",
      "   |   |  \n",
      "   |   |   \n",
      "------------\n",
      "   |   |   \n",
      "   | X |  \n",
      "   |   |   \n",
      "------------\n",
      "   |   |   \n",
      "   |   |  \n",
      "   |   |   \n",
      "False\n",
      "computer placed an O on position 7 :\n",
      "   |   |   \n",
      "   |   |  \n",
      "   |   |   \n",
      "------------\n",
      "   |   |   \n",
      "   | X |  \n",
      "   |   |   \n",
      "------------\n",
      "   |   |   \n",
      " O |   |  \n",
      "   |   |   \n"
     ]
    },
    {
     "name": "stdin",
     "output_type": "stream",
     "text": [
      "please select a position to enter the X between 1 to 9:- 3\n"
     ]
    },
    {
     "name": "stdout",
     "output_type": "stream",
     "text": [
      "   |   |   \n",
      "   |   | X\n",
      "   |   |   \n",
      "------------\n",
      "   |   |   \n",
      "   | X |  \n",
      "   |   |   \n",
      "------------\n",
      "   |   |   \n",
      " O |   |  \n",
      "   |   |   \n",
      "False\n",
      "computer placed an O on position 9 :\n",
      "   |   |   \n",
      "   |   | X\n",
      "   |   |   \n",
      "------------\n",
      "   |   |   \n",
      "   | X |  \n",
      "   |   |   \n",
      "------------\n",
      "   |   |   \n",
      " O |   | O\n",
      "   |   |   \n"
     ]
    },
    {
     "name": "stdin",
     "output_type": "stream",
     "text": [
      "please select a position to enter the X between 1 to 9:- 8\n"
     ]
    },
    {
     "name": "stdout",
     "output_type": "stream",
     "text": [
      "   |   |   \n",
      "   |   | X\n",
      "   |   |   \n",
      "------------\n",
      "   |   |   \n",
      "   | X |  \n",
      "   |   |   \n",
      "------------\n",
      "   |   |   \n",
      " O | X | O\n",
      "   |   |   \n",
      "False\n",
      "computer placed an O on position 2 :\n",
      "   |   |   \n",
      "   | O | X\n",
      "   |   |   \n",
      "------------\n",
      "   |   |   \n",
      "   | X |  \n",
      "   |   |   \n",
      "------------\n",
      "   |   |   \n",
      " O | X | O\n",
      "   |   |   \n"
     ]
    },
    {
     "name": "stdin",
     "output_type": "stream",
     "text": [
      "please select a position to enter the X between 1 to 9:- 4\n"
     ]
    },
    {
     "name": "stdout",
     "output_type": "stream",
     "text": [
      "   |   |   \n",
      "   | O | X\n",
      "   |   |   \n",
      "------------\n",
      "   |   |   \n",
      " X | X |  \n",
      "   |   |   \n",
      "------------\n",
      "   |   |   \n",
      " O | X | O\n",
      "   |   |   \n",
      "False\n",
      "computer placed an O on position 6 :\n",
      "   |   |   \n",
      "   | O | X\n",
      "   |   |   \n",
      "------------\n",
      "   |   |   \n",
      " X | X | O\n",
      "   |   |   \n",
      "------------\n",
      "   |   |   \n",
      " O | X | O\n",
      "   |   |   \n"
     ]
    },
    {
     "name": "stdin",
     "output_type": "stream",
     "text": [
      "please select a position to enter the X between 1 to 9:- 1\n"
     ]
    },
    {
     "name": "stdout",
     "output_type": "stream",
     "text": [
      "   |   |   \n",
      " X | O | X\n",
      "   |   |   \n",
      "------------\n",
      "   |   |   \n",
      " X | X | O\n",
      "   |   |   \n",
      "------------\n",
      "   |   |   \n",
      " O | X | O\n",
      "   |   |   \n",
      "False\n",
      "Game is Tie\n",
      "=========================\n"
     ]
    },
    {
     "name": "stdin",
     "output_type": "stream",
     "text": [
      "Do you want's to play again(y/n):- y\n"
     ]
    },
    {
     "name": "stdout",
     "output_type": "stream",
     "text": [
      "=========================\n",
      "=========================\n",
      "Welcome in the Tic-Tac-Toe Game   ----> Made by :-  Monu Sharma\n",
      "=================================================================\n",
      "   |   |   \n",
      "   |   |  \n",
      "   |   |   \n",
      "------------\n",
      "   |   |   \n",
      "   |   |  \n",
      "   |   |   \n",
      "------------\n",
      "   |   |   \n",
      "   |   |  \n",
      "   |   |   \n"
     ]
    },
    {
     "name": "stdin",
     "output_type": "stream",
     "text": [
      "please select a position to enter the X between 1 to 9:- 1\n"
     ]
    },
    {
     "name": "stdout",
     "output_type": "stream",
     "text": [
      "   |   |   \n",
      " X |   |  \n",
      "   |   |   \n",
      "------------\n",
      "   |   |   \n",
      "   |   |  \n",
      "   |   |   \n",
      "------------\n",
      "   |   |   \n",
      "   |   |  \n",
      "   |   |   \n",
      "False\n",
      "computer placed an O on position 3 :\n",
      "   |   |   \n",
      " X |   | O\n",
      "   |   |   \n",
      "------------\n",
      "   |   |   \n",
      "   |   |  \n",
      "   |   |   \n",
      "------------\n",
      "   |   |   \n",
      "   |   |  \n",
      "   |   |   \n"
     ]
    },
    {
     "name": "stdin",
     "output_type": "stream",
     "text": [
      "please select a position to enter the X between 1 to 9:- 8\n"
     ]
    },
    {
     "name": "stdout",
     "output_type": "stream",
     "text": [
      "   |   |   \n",
      " X |   | O\n",
      "   |   |   \n",
      "------------\n",
      "   |   |   \n",
      "   |   |  \n",
      "   |   |   \n",
      "------------\n",
      "   |   |   \n",
      "   | X |  \n",
      "   |   |   \n",
      "False\n",
      "computer placed an O on position 7 :\n",
      "   |   |   \n",
      " X |   | O\n",
      "   |   |   \n",
      "------------\n",
      "   |   |   \n",
      "   |   |  \n",
      "   |   |   \n",
      "------------\n",
      "   |   |   \n",
      " O | X |  \n",
      "   |   |   \n"
     ]
    },
    {
     "name": "stdin",
     "output_type": "stream",
     "text": [
      "please select a position to enter the X between 1 to 9:- 5\n"
     ]
    },
    {
     "name": "stdout",
     "output_type": "stream",
     "text": [
      "   |   |   \n",
      " X |   | O\n",
      "   |   |   \n",
      "------------\n",
      "   |   |   \n",
      "   | X |  \n",
      "   |   |   \n",
      "------------\n",
      "   |   |   \n",
      " O | X |  \n",
      "   |   |   \n",
      "False\n",
      "computer placed an O on position 2 :\n",
      "   |   |   \n",
      " X | O | O\n",
      "   |   |   \n",
      "------------\n",
      "   |   |   \n",
      "   | X |  \n",
      "   |   |   \n",
      "------------\n",
      "   |   |   \n",
      " O | X |  \n",
      "   |   |   \n"
     ]
    },
    {
     "name": "stdin",
     "output_type": "stream",
     "text": [
      "please select a position to enter the X between 1 to 9:- 9\n"
     ]
    },
    {
     "name": "stdout",
     "output_type": "stream",
     "text": [
      "   |   |   \n",
      " X | O | O\n",
      "   |   |   \n",
      "------------\n",
      "   |   |   \n",
      "   | X |  \n",
      "   |   |   \n",
      "------------\n",
      "   |   |   \n",
      " O | X | X\n",
      "   |   |   \n",
      "you win!\n",
      "=========================\n"
     ]
    },
    {
     "name": "stdin",
     "output_type": "stream",
     "text": [
      "Do you want's to play again(y/n):- y\n"
     ]
    },
    {
     "name": "stdout",
     "output_type": "stream",
     "text": [
      "=========================\n",
      "=========================\n",
      "Welcome in the Tic-Tac-Toe Game   ----> Made by :-  Monu Sharma\n",
      "=================================================================\n",
      "   |   |   \n",
      "   |   |  \n",
      "   |   |   \n",
      "------------\n",
      "   |   |   \n",
      "   |   |  \n",
      "   |   |   \n",
      "------------\n",
      "   |   |   \n",
      "   |   |  \n",
      "   |   |   \n"
     ]
    },
    {
     "name": "stdin",
     "output_type": "stream",
     "text": [
      "please select a position to enter the X between 1 to 9:- 1\n"
     ]
    },
    {
     "name": "stdout",
     "output_type": "stream",
     "text": [
      "   |   |   \n",
      " X |   |  \n",
      "   |   |   \n",
      "------------\n",
      "   |   |   \n",
      "   |   |  \n",
      "   |   |   \n",
      "------------\n",
      "   |   |   \n",
      "   |   |  \n",
      "   |   |   \n",
      "False\n",
      "computer placed an O on position 3 :\n",
      "   |   |   \n",
      " X |   | O\n",
      "   |   |   \n",
      "------------\n",
      "   |   |   \n",
      "   |   |  \n",
      "   |   |   \n",
      "------------\n",
      "   |   |   \n",
      "   |   |  \n",
      "   |   |   \n"
     ]
    },
    {
     "name": "stdin",
     "output_type": "stream",
     "text": [
      "please select a position to enter the X between 1 to 9:- 8\n"
     ]
    },
    {
     "name": "stdout",
     "output_type": "stream",
     "text": [
      "   |   |   \n",
      " X |   | O\n",
      "   |   |   \n",
      "------------\n",
      "   |   |   \n",
      "   |   |  \n",
      "   |   |   \n",
      "------------\n",
      "   |   |   \n",
      "   | X |  \n",
      "   |   |   \n",
      "False\n",
      "computer placed an O on position 9 :\n",
      "   |   |   \n",
      " X |   | O\n",
      "   |   |   \n",
      "------------\n",
      "   |   |   \n",
      "   |   |  \n",
      "   |   |   \n",
      "------------\n",
      "   |   |   \n",
      "   | X | O\n",
      "   |   |   \n"
     ]
    },
    {
     "name": "stdin",
     "output_type": "stream",
     "text": [
      "please select a position to enter the X between 1 to 9:- 6\n"
     ]
    },
    {
     "name": "stdout",
     "output_type": "stream",
     "text": [
      "   |   |   \n",
      " X |   | O\n",
      "   |   |   \n",
      "------------\n",
      "   |   |   \n",
      "   |   | X\n",
      "   |   |   \n",
      "------------\n",
      "   |   |   \n",
      "   | X | O\n",
      "   |   |   \n",
      "False\n",
      "computer placed an O on position 7 :\n",
      "   |   |   \n",
      " X |   | O\n",
      "   |   |   \n",
      "------------\n",
      "   |   |   \n",
      "   |   | X\n",
      "   |   |   \n",
      "------------\n",
      "   |   |   \n",
      " O | X | O\n",
      "   |   |   \n"
     ]
    },
    {
     "name": "stdin",
     "output_type": "stream",
     "text": [
      "please select a position to enter the X between 1 to 9:- 5\n"
     ]
    },
    {
     "name": "stdout",
     "output_type": "stream",
     "text": [
      "   |   |   \n",
      " X |   | O\n",
      "   |   |   \n",
      "------------\n",
      "   |   |   \n",
      "   | X | X\n",
      "   |   |   \n",
      "------------\n",
      "   |   |   \n",
      " O | X | O\n",
      "   |   |   \n",
      "False\n",
      "computer placed an O on position 2 :\n",
      "   |   |   \n",
      " X | O | O\n",
      "   |   |   \n",
      "------------\n",
      "   |   |   \n",
      "   | X | X\n",
      "   |   |   \n",
      "------------\n",
      "   |   |   \n",
      " O | X | O\n",
      "   |   |   \n"
     ]
    },
    {
     "name": "stdin",
     "output_type": "stream",
     "text": [
      "please select a position to enter the X between 1 to 9:- 4\n"
     ]
    },
    {
     "name": "stdout",
     "output_type": "stream",
     "text": [
      "   |   |   \n",
      " X | O | O\n",
      "   |   |   \n",
      "------------\n",
      "   |   |   \n",
      " X | X | X\n",
      "   |   |   \n",
      "------------\n",
      "   |   |   \n",
      " O | X | O\n",
      "   |   |   \n",
      "you win!\n",
      "=========================\n"
     ]
    },
    {
     "name": "stdin",
     "output_type": "stream",
     "text": [
      "Do you want's to play again(y/n):- n\n"
     ]
    },
    {
     "name": "stdout",
     "output_type": "stream",
     "text": [
      "=========================\n",
      "Thank you to playing this Game :)\n"
     ]
    }
   ],
   "source": [
    "import random as rn\n",
    "\n",
    "board=[' ' for i in range(10)]\n",
    "\n",
    "def insert_letter(pos,letter):\n",
    "    board[pos]=letter\n",
    "    \n",
    "def space_is_free(pos):\n",
    "    return board[pos]==' '\n",
    "\n",
    "def printBoard(board):\n",
    "    print('   |   |   ')\n",
    "    print(' ' + board[1] + ' | ' + board[2] + ' | ' + board[3])\n",
    "    print('   |   |   ')\n",
    "    print('------------')\n",
    "    print('   |   |   ')\n",
    "    print(' ' + board[4] + ' | ' + board[5] + ' | ' + board[6])\n",
    "    print('   |   |   ')\n",
    "    print('------------')\n",
    "    print('   |   |   ')\n",
    "    print(' ' + board[7] + ' | ' + board[8] + ' | ' + board[9])\n",
    "    print('   |   |   ')\n",
    "\n",
    "def isBoardFull(board):\n",
    "    return board.count(' ') == 1\n",
    "\n",
    "def IsWinner(b,l):\n",
    "    return ((b[1] == l and b[2] == l and b[3] == l) or\n",
    "    (b[4] == l and b[5] == l and b[6] == l) or\n",
    "    (b[7] == l and b[8] == l and b[9] == l) or\n",
    "    (b[1] == l and b[4] == l and b[7] == l) or\n",
    "    (b[2] == l and b[5] == l and b[8] == l) or\n",
    "    (b[3] == l and b[6] == l and b[9] == l) or\n",
    "    (b[1] == l and b[5] == l and b[9] == l) or\n",
    "    (b[3] == l and b[5] == l and b[7] == l))\n",
    "\n",
    "def player_move():\n",
    "    run=True\n",
    "    while(run):\n",
    "        try:\n",
    "            move=int(input(\"please select a position to enter the X between 1 to 9:-\"))\n",
    "            if(move>0 and move<10):\n",
    "                if space_is_free(move):\n",
    "                    run=False\n",
    "                    insert_letter(move,'X')\n",
    "                else:\n",
    "                    print('This space already occupied ')\n",
    "            else:\n",
    "                print('Please!, Enter the number between 1 to 9')\n",
    "        except:\n",
    "            print('Please enter a number')\n",
    "            \n",
    "def AI_move():\n",
    "    PossibleMoves=[x for x, letter in enumerate(board) if letter==' ' and x!=0]\n",
    "    \n",
    "    for let in ['O','X']:\n",
    "        for i in PossibleMoves:\n",
    "            boardcopy=board[:]\n",
    "            boardcopy[i]=let\n",
    "            if IsWinner(boardcopy,let):\n",
    "                return i\n",
    "    \n",
    "    corner_move=[]\n",
    "    for i in PossibleMoves:\n",
    "        if i in [1,3,7,9]:\n",
    "            corner_move.append(i)\n",
    "            \n",
    "    if len(corner_move)>0:\n",
    "        move=random_select(corner_move)\n",
    "        return move\n",
    "    \n",
    "    if 5 in PossibleMoves:\n",
    "        move = 5\n",
    "        return move\n",
    "    \n",
    "    edge_move=[]\n",
    "    for i in PossibleMoves:\n",
    "        if i in [2,4,6,8]:\n",
    "            edge_move.append(i)\n",
    "    if len(edge_move)>0:\n",
    "        move=random_select(edge_move)\n",
    "        return move\n",
    "\n",
    "def random_select(l):\n",
    "    i=rn.randrange(0,len(l))\n",
    "    return l[i]\n",
    "\n",
    "def main():\n",
    "    print('Welcome in the Tic-Tac-Toe Game   ----> Made by :-  Monu Sharma')\n",
    "    print(''.center(65,'='))\n",
    "    printBoard(board)\n",
    "    \n",
    "    while not(isBoardFull(board)):\n",
    "        if not(IsWinner(board ,'O')):\n",
    "            player_move()\n",
    "            printBoard(board)\n",
    "        else:\n",
    "            print(''.center(25,'='))\n",
    "            print(\"sorry you loose!\")\n",
    "            break\n",
    "               \n",
    "        if not(IsWinner(board ,'X')):\n",
    "            print(IsWinner(board,'X'))\n",
    "            if  isBoardFull(board) :\n",
    "                continue\n",
    "            move = AI_move()\n",
    "            insert_letter(move,'O')\n",
    "            print('computer placed an O on position' , move , ':')\n",
    "            printBoard(board)\n",
    "        else:\n",
    "            print(\"you win!\")\n",
    "            break\n",
    "    else:\n",
    "        print('Game is Tie')\n",
    "\n",
    "while True:\n",
    "    main()\n",
    "    print(''.center(25,'='))\n",
    "    ans=input(\"Do you want's to play again(y/n):-\")\n",
    "    print(''.center(25,'='))\n",
    "    if ans.lower() == 'y':\n",
    "        board=[' ' for i in range(10)]\n",
    "        print(''.center(25,'='))\n",
    "        main()\n",
    "    else:\n",
    "        print(\"Thank you to playing this Game :)\")\n",
    "        break"
   ]
  },
  {
   "cell_type": "code",
   "execution_count": 5,
   "metadata": {},
   "outputs": [
    {
     "data": {
      "text/plain": [
       "True"
      ]
     },
     "execution_count": 5,
     "metadata": {},
     "output_type": "execute_result"
    }
   ],
   "source": [
    "bo=[' ','X','X',' ','O','O','O','X',' ',' ']\n",
    "IsWinner(bo,'O')"
   ]
  },
  {
   "cell_type": "code",
   "execution_count": null,
   "metadata": {},
   "outputs": [],
   "source": []
  }
 ],
 "metadata": {
  "kernelspec": {
   "display_name": "Python 3",
   "language": "python",
   "name": "python3"
  },
  "language_info": {
   "codemirror_mode": {
    "name": "ipython",
    "version": 3
   },
   "file_extension": ".py",
   "mimetype": "text/x-python",
   "name": "python",
   "nbconvert_exporter": "python",
   "pygments_lexer": "ipython3",
   "version": "3.7.4"
  }
 },
 "nbformat": 4,
 "nbformat_minor": 4
}
